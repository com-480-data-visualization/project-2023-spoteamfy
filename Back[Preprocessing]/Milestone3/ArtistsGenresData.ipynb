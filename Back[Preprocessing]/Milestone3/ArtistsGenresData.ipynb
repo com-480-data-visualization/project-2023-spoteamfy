{
 "cells": [
  {
   "attachments": {},
   "cell_type": "markdown",
   "metadata": {},
   "source": [
    "# Get Top 10 artists and Top 5 Genres (Artists and Genres data)"
   ]
  },
  {
   "cell_type": "code",
   "execution_count": 3,
   "metadata": {},
   "outputs": [],
   "source": [
    "import pandas as pd\n",
    "import numpy as np\n",
    "import json"
   ]
  },
  {
   "attachments": {},
   "cell_type": "markdown",
   "metadata": {},
   "source": [
    "## 1. Top 10 Artists per emotion"
   ]
  },
  {
   "cell_type": "code",
   "execution_count": 4,
   "metadata": {},
   "outputs": [],
   "source": [
    "#Retrieve data\n",
    "df = pd.read_csv('data/tracks_final.csv')\n",
    "\n",
    "#Retrieve emotions\n",
    "emotions = df['emotions'].unique()\n",
    "\n",
    "artists_dict = {}\n",
    "for emotion in emotions : \n",
    "\n",
    "    #Get sub dataframe of emotion\n",
    "    df_tmp = df[df['emotions'] == emotion]\n",
    "\n",
    "    #Group by artist, count number of tracks and sort from highest to lowest\n",
    "    df_tmp = df_tmp.groupby(['artist']).size().reset_index(name='size')\n",
    "    df_tmp = df_tmp.sort_values(by=['size'], ascending=False)\n",
    "\n",
    "    #Retrieve track_id of artists\n",
    "    df_tmp = df_tmp.merge(df[['artist', 'track_id']], on='artist', how='left')    \n",
    "    df_tmp = df_tmp.drop_duplicates(subset=['artist'], keep='first')\n",
    "    df_tmp = df_tmp.rename(columns={'artist': 'name'})\n",
    "\n",
    "    #Add rank (based on number of tracks)\n",
    "    df_tmp['rank'] = [i for i in range(1, len(df_tmp) + 1)]\n",
    "\n",
    "    #Retrieve top 10 artists\n",
    "    df_tmp = df_tmp.head(10)\n",
    "    \n",
    "    #Add to dictionary\n",
    "    artists_dict[emotion] = df_tmp.to_dict('records')\n",
    "\n",
    "#Store dictionary in json file\n",
    "with open('data/top_artists.json', 'w') as fp:\n",
    "    json.dump(artists_dict, fp)"
   ]
  },
  {
   "attachments": {},
   "cell_type": "markdown",
   "metadata": {},
   "source": [
    "## 2. Top 5 Genres per emotion"
   ]
  },
  {
   "cell_type": "code",
   "execution_count": 6,
   "metadata": {},
   "outputs": [],
   "source": [
    "genres_dict = {}\n",
    "for emotion in emotions :\n",
    "    df_tmp = df[df['emotions'] == emotion]\n",
    "    df_tmp = df_tmp.groupby(['genre']).size().reset_index(name='counts')\n",
    "    df_tmp = df_tmp.sort_values(by=['counts'], ascending=False)\n",
    "    df_tmp = df_tmp.head(5)\n",
    "    #Sort randomly rows\n",
    "    df_tmp = df_tmp.sample(frac=1)\n",
    "    genres_dict[emotion] = df_tmp.to_dict('records')\n",
    "\n",
    "with open('data/top_genres.json', 'w') as fp:\n",
    "    json.dump(genres_dict, fp)"
   ]
  }
 ],
 "metadata": {
  "kernelspec": {
   "display_name": "adaexam2023",
   "language": "python",
   "name": "python3"
  },
  "language_info": {
   "codemirror_mode": {
    "name": "ipython",
    "version": 3
   },
   "file_extension": ".py",
   "mimetype": "text/x-python",
   "name": "python",
   "nbconvert_exporter": "python",
   "pygments_lexer": "ipython3",
   "version": "3.9.7"
  },
  "orig_nbformat": 4
 },
 "nbformat": 4,
 "nbformat_minor": 2
}
