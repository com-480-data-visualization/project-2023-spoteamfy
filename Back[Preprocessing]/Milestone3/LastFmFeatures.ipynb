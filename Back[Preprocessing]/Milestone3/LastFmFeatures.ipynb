{
 "cells": [
  {
   "attachments": {},
   "cell_type": "markdown",
   "metadata": {},
   "source": [
    "# Get artists' biographies from Last.fm"
   ]
  },
  {
   "cell_type": "code",
   "execution_count": 3,
   "metadata": {},
   "outputs": [],
   "source": [
    "import json\n",
    "import requests\n",
    "import re"
   ]
  },
  {
   "cell_type": "code",
   "execution_count": 2,
   "metadata": {},
   "outputs": [],
   "source": [
    "# Retrieve top 10 artists for each emotion\n",
    "with open('data/top_artists.json') as f : \n",
    "    top_artists = json.load(f)\n",
    "\n",
    "# Retrieve all artists we need to get biography for\n",
    "artists = []\n",
    "for key, value in top_artists.items():\n",
    "    all_artists = value\n",
    "    for artist in all_artists : \n",
    "        artists.append(artist['name'])"
   ]
  },
  {
   "cell_type": "code",
   "execution_count": 4,
   "metadata": {},
   "outputs": [],
   "source": [
    "# Retrieve biography for each artist\n",
    "def getBioArtist(artist_name, api_key) : \n",
    "    url = f'https://ws.audioscrobbler.com/2.0/?method=artist.getInfo&artist={artist_name}&api_key={api_key}&format=json'\n",
    "    response = requests.get(url)\n",
    "    \n",
    "    if response.status_code == 200:\n",
    "        data = response.json()\n",
    "        # Handle the response data\n",
    "        bio =  data['artist']['bio']['summary']\n",
    "        bio = re.sub(r'<a\\b[^>]*>(.*?)</a>', '', bio)\n",
    "        return bio\n",
    "\n",
    "    else:\n",
    "        print('Error:', response.status_code)"
   ]
  },
  {
   "cell_type": "code",
   "execution_count": 5,
   "metadata": {},
   "outputs": [],
   "source": [
    "api_key = #Your API Key\n",
    "\n",
    "#Retrieve bio and add it to dictionary\n",
    "bio_artists = {}\n",
    "for artist in artists : \n",
    "    bio = getBioArtist(artist, api_key)\n",
    "    bio_artists[artist] = bio\n",
    "\n",
    "# Add bio to top_artists (initial dictionary)\n",
    "for key, value in top_artists.items():\n",
    "    all_artists = value\n",
    "    for artist in all_artists : \n",
    "        artist['bio'] = bio_artists[artist['name']]\n",
    "\n",
    "# Save top_artists with bio\n",
    "with open('data/top_artists.json', 'w') as f :\n",
    "    json.dump(top_artists, f)"
   ]
  }
 ],
 "metadata": {
  "kernelspec": {
   "display_name": "adaexam2023",
   "language": "python",
   "name": "python3"
  },
  "language_info": {
   "codemirror_mode": {
    "name": "ipython",
    "version": 3
   },
   "file_extension": ".py",
   "mimetype": "text/x-python",
   "name": "python",
   "nbconvert_exporter": "python",
   "pygments_lexer": "ipython3",
   "version": "3.9.7"
  },
  "orig_nbformat": 4
 },
 "nbformat": 4,
 "nbformat_minor": 2
}
